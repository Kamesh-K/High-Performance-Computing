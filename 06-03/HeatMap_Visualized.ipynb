{
 "cells": [
  {
   "cell_type": "code",
   "execution_count": 1,
   "metadata": {},
   "outputs": [
    {
     "name": "stderr",
     "output_type": "stream",
     "text": [
      "/home/kamesh-k/anaconda3/lib/python3.7/site-packages/statsmodels/tools/_testing.py:19: FutureWarning: pandas.util.testing is deprecated. Use the functions in the public API at pandas.testing instead.\n",
      "  import pandas.util.testing as tm\n"
     ]
    },
    {
     "data": {
      "text/plain": [
       "<Figure size 640x480 with 2 Axes>"
      ]
     },
     "metadata": {},
     "output_type": "display_data"
    }
   ],
   "source": [
    "import matplotlib.animation as animation\n",
    "import matplotlib.pyplot as plt\n",
    "import numpy as np\n",
    "import seaborn as sns\n",
    "\n",
    "\n",
    "def animate_heat_map():\n",
    "    fig = plt.figure()\n",
    "\n",
    "    nx = ny = 20\n",
    "    data = np.random.rand(nx, ny)\n",
    "    ax = sns.heatmap(data, vmin=0, vmax=1)\n",
    "\n",
    "    def init():\n",
    "        plt.clf()\n",
    "        ax = sns.heatmap(data, vmin=0, vmax=1)\n",
    "\n",
    "    def animate(i):\n",
    "        plt.clf()\n",
    "        data = np.random.rand(nx, ny)\n",
    "        ax = sns.heatmap(data, vmin=0, vmax=1)\n",
    "\n",
    "    anim = animation.FuncAnimation(fig, animate, init_func=init, interval=1000)\n",
    "\n",
    "    plt.show()\n",
    "\n",
    "\n",
    "if __name__ == \"__main__\":\n",
    "    animate_heat_map()"
   ]
  },
  {
   "cell_type": "code",
   "execution_count": 3,
   "metadata": {},
   "outputs": [
    {
     "data": {
      "image/png": "[encoded data removed]",
      "text/plain": [
       "<Figure size 432x288 with 2 Axes>"
      ]
     },
     "metadata": {
      "needs_background": "light"
     },
     "output_type": "display_data"
    }
   ],
   "source": [
    "import matplotlib.animation as animation\n",
    "import matplotlib.pyplot as plt\n",
    "import numpy as np\n",
    "import seaborn as sns\n",
    "\n",
    "\n",
    "def animate_heat_map():\n",
    "    fig = plt.figure()\n",
    "\n",
    "    nx = ny = 20\n",
    "    data = np.random.rand(nx, ny)\n",
    "    ax = sns.heatmap(data, vmin=0, vmax=1)\n",
    "\n",
    "    def init():\n",
    "        plt.clf()\n",
    "        ax = sns.heatmap(data, vmin=0, vmax=1)\n",
    "\n",
    "    def animate(i):\n",
    "        plt.clf()\n",
    "        data = np.random.rand(nx, ny)\n",
    "        ax = sns.heatmap(data, vmin=0, vmax=1)\n",
    "\n",
    "    anim = animation.FuncAnimation(fig, animate, init_func=init, interval=1000)\n",
    "\n",
    "    plt.show()\n",
    "\n",
    "\n",
    "if __name__ == \"__main__\":\n",
    "    animate_heat_map()"
   ]
  }
 ],
 "metadata": {
  "kernelspec": {
   "display_name": "Python 3",
   "language": "python",
   "name": "python3"
  },
  "language_info": {
   "codemirror_mode": {
    "name": "ipython",
    "version": 3
   },
   "file_extension": ".py",
   "mimetype": "text/x-python",
   "name": "python",
   "nbconvert_exporter": "python",
   "pygments_lexer": "ipython3",
   "version": "3.7.4"
  }
 },
 "nbformat": 4,
 "nbformat_minor": 2
}
